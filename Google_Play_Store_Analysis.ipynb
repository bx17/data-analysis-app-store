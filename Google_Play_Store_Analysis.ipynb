{
 "cells": [
  {
   "cell_type": "markdown",
   "metadata": {},
   "source": [
    "# Google Apps 商店的数据分析\n",
    "\n",
    "## 简介\n",
    "\n",
    "数据集(googleplaystore.csv)包含了Google Play Store中 10k+ 应用软件的信息。该数据是Kaggle中 [Google Play Store Apps](https://www.kaggle.com/lava18/google-play-store-apps) 的一部分。\n",
    "\n",
    "数据集中的变量及说明：\n",
    "```\n",
    "App: 应用的名称，字符变量。\n",
    "Category: 应用所属的分类，字符变量。\n",
    "Rating: 某应用的用户评分，数值变量。\n",
    "Reviews: 某应用获得的用户评论数量，数值变量。\n",
    "Size: 某应用的所占存储空间的大小，字符变量。\n",
    "Installs: 用户安装和下载某应用的次数，字符变量。\n",
    "Type: 付费或免费，分类变量。\n",
    "Price: 价格，字符变量。\n",
    "Content Rating: 应用商店针对内容给出的年龄评级组 - Children / Mature 21+ / Adult，分类变量。\n",
    "Genres: 类型/流派，一个应用可以属于多个流派，比如音乐、游戏、家庭等，字符变量。\n",
    "Last Updated: 应用最新更新的日期，字符变量。\n",
    "Current Ver: 当前应用的版本，字符变量。\n",
    "Android Ver: 安装该应用所需要的最低安卓版本，字符变量。\n",
    "```\n",
    "\n",
    "## 提出问题\n",
    "\n",
    "**问题**：\n",
    "- 什么类型（category）的App平均评分高？\n",
    "- App的大小（size）和评分是否有关？\n",
    "\n",
    "**答案**：\n",
    "- 教育（Education）类App平均评分最高。\n",
    "- App的大小（size）和评分的关系为：较弱的正相关。\n",
    "\n",
    "## 数据评估和清理\n",
    "### 数据评估"
   ]
  },
  {
   "cell_type": "code",
   "execution_count": 1,
   "metadata": {},
   "outputs": [],
   "source": [
    "import pandas as pd\n",
    "import numpy as np\n",
    "import matplotlib.pyplot as plt\n",
    "import seaborn as sns\n",
    "%matplotlib inline"
   ]
  },
  {
   "cell_type": "code",
   "execution_count": 2,
   "metadata": {},
   "outputs": [],
   "source": [
    "df_softwares = pd.read_csv('googleplaystore.csv')"
   ]
  },
  {
   "cell_type": "code",
   "execution_count": 3,
   "metadata": {
    "scrolled": true
   },
   "outputs": [
    {
     "data": {
      "text/html": [
       "<div>\n",
       "<style scoped>\n",
       "    .dataframe tbody tr th:only-of-type {\n",
       "        vertical-align: middle;\n",
       "    }\n",
       "\n",
       "    .dataframe tbody tr th {\n",
       "        vertical-align: top;\n",
       "    }\n",
       "\n",
       "    .dataframe thead th {\n",
       "        text-align: right;\n",
       "    }\n",
       "</style>\n",
       "<table border=\"1\" class=\"dataframe\">\n",
       "  <thead>\n",
       "    <tr style=\"text-align: right;\">\n",
       "      <th></th>\n",
       "      <th>App</th>\n",
       "      <th>Category</th>\n",
       "      <th>Rating</th>\n",
       "      <th>Reviews</th>\n",
       "      <th>Size</th>\n",
       "      <th>Installs</th>\n",
       "      <th>Type</th>\n",
       "      <th>Price</th>\n",
       "      <th>Content Rating</th>\n",
       "      <th>Genres</th>\n",
       "      <th>Last Updated</th>\n",
       "      <th>Current Ver</th>\n",
       "      <th>Android Ver</th>\n",
       "    </tr>\n",
       "  </thead>\n",
       "  <tbody>\n",
       "    <tr>\n",
       "      <td>0</td>\n",
       "      <td>Photo Editor &amp; Candy Camera &amp; Grid &amp; ScrapBook</td>\n",
       "      <td>ART_AND_DESIGN</td>\n",
       "      <td>4.1</td>\n",
       "      <td>159</td>\n",
       "      <td>19M</td>\n",
       "      <td>10,000+</td>\n",
       "      <td>Free</td>\n",
       "      <td>0</td>\n",
       "      <td>Everyone</td>\n",
       "      <td>Art &amp; Design</td>\n",
       "      <td>January 7, 2018</td>\n",
       "      <td>1.0.0</td>\n",
       "      <td>4.0.3 and up</td>\n",
       "    </tr>\n",
       "    <tr>\n",
       "      <td>1</td>\n",
       "      <td>Coloring book moana</td>\n",
       "      <td>ART_AND_DESIGN</td>\n",
       "      <td>3.9</td>\n",
       "      <td>967</td>\n",
       "      <td>14M</td>\n",
       "      <td>500,000+</td>\n",
       "      <td>Free</td>\n",
       "      <td>0</td>\n",
       "      <td>Everyone</td>\n",
       "      <td>Art &amp; Design;Pretend Play</td>\n",
       "      <td>January 15, 2018</td>\n",
       "      <td>2.0.0</td>\n",
       "      <td>4.0.3 and up</td>\n",
       "    </tr>\n",
       "    <tr>\n",
       "      <td>2</td>\n",
       "      <td>U Launcher Lite – FREE Live Cool Themes, Hide ...</td>\n",
       "      <td>ART_AND_DESIGN</td>\n",
       "      <td>4.7</td>\n",
       "      <td>87510</td>\n",
       "      <td>8.7M</td>\n",
       "      <td>5,000,000+</td>\n",
       "      <td>Free</td>\n",
       "      <td>0</td>\n",
       "      <td>Everyone</td>\n",
       "      <td>Art &amp; Design</td>\n",
       "      <td>August 1, 2018</td>\n",
       "      <td>1.2.4</td>\n",
       "      <td>4.0.3 and up</td>\n",
       "    </tr>\n",
       "    <tr>\n",
       "      <td>3</td>\n",
       "      <td>Sketch - Draw &amp; Paint</td>\n",
       "      <td>ART_AND_DESIGN</td>\n",
       "      <td>4.5</td>\n",
       "      <td>215644</td>\n",
       "      <td>25M</td>\n",
       "      <td>50,000,000+</td>\n",
       "      <td>Free</td>\n",
       "      <td>0</td>\n",
       "      <td>Teen</td>\n",
       "      <td>Art &amp; Design</td>\n",
       "      <td>June 8, 2018</td>\n",
       "      <td>Varies with device</td>\n",
       "      <td>4.2 and up</td>\n",
       "    </tr>\n",
       "    <tr>\n",
       "      <td>4</td>\n",
       "      <td>Pixel Draw - Number Art Coloring Book</td>\n",
       "      <td>ART_AND_DESIGN</td>\n",
       "      <td>4.3</td>\n",
       "      <td>967</td>\n",
       "      <td>2.8M</td>\n",
       "      <td>100,000+</td>\n",
       "      <td>Free</td>\n",
       "      <td>0</td>\n",
       "      <td>Everyone</td>\n",
       "      <td>Art &amp; Design;Creativity</td>\n",
       "      <td>June 20, 2018</td>\n",
       "      <td>1.1</td>\n",
       "      <td>4.4 and up</td>\n",
       "    </tr>\n",
       "  </tbody>\n",
       "</table>\n",
       "</div>"
      ],
      "text/plain": [
       "                                                 App        Category  Rating  \\\n",
       "0     Photo Editor & Candy Camera & Grid & ScrapBook  ART_AND_DESIGN     4.1   \n",
       "1                                Coloring book moana  ART_AND_DESIGN     3.9   \n",
       "2  U Launcher Lite – FREE Live Cool Themes, Hide ...  ART_AND_DESIGN     4.7   \n",
       "3                              Sketch - Draw & Paint  ART_AND_DESIGN     4.5   \n",
       "4              Pixel Draw - Number Art Coloring Book  ART_AND_DESIGN     4.3   \n",
       "\n",
       "  Reviews  Size     Installs  Type Price Content Rating  \\\n",
       "0     159   19M      10,000+  Free     0       Everyone   \n",
       "1     967   14M     500,000+  Free     0       Everyone   \n",
       "2   87510  8.7M   5,000,000+  Free     0       Everyone   \n",
       "3  215644   25M  50,000,000+  Free     0           Teen   \n",
       "4     967  2.8M     100,000+  Free     0       Everyone   \n",
       "\n",
       "                      Genres      Last Updated         Current Ver  \\\n",
       "0               Art & Design   January 7, 2018               1.0.0   \n",
       "1  Art & Design;Pretend Play  January 15, 2018               2.0.0   \n",
       "2               Art & Design    August 1, 2018               1.2.4   \n",
       "3               Art & Design      June 8, 2018  Varies with device   \n",
       "4    Art & Design;Creativity     June 20, 2018                 1.1   \n",
       "\n",
       "    Android Ver  \n",
       "0  4.0.3 and up  \n",
       "1  4.0.3 and up  \n",
       "2  4.0.3 and up  \n",
       "3    4.2 and up  \n",
       "4    4.4 and up  "
      ]
     },
     "execution_count": 3,
     "metadata": {},
     "output_type": "execute_result"
    }
   ],
   "source": [
    "df_softwares.head()"
   ]
  },
  {
   "cell_type": "code",
   "execution_count": 4,
   "metadata": {},
   "outputs": [
    {
     "data": {
      "text/plain": [
       "(10841, 13)"
      ]
     },
     "execution_count": 4,
     "metadata": {},
     "output_type": "execute_result"
    }
   ],
   "source": [
    "df_softwares.shape"
   ]
  },
  {
   "cell_type": "code",
   "execution_count": 5,
   "metadata": {},
   "outputs": [
    {
     "data": {
      "text/plain": [
       "Index(['App', 'Category', 'Rating', 'Reviews', 'Size', 'Installs', 'Type',\n",
       "       'Price', 'Content Rating', 'Genres', 'Last Updated', 'Current Ver',\n",
       "       'Android Ver'],\n",
       "      dtype='object')"
      ]
     },
     "execution_count": 5,
     "metadata": {},
     "output_type": "execute_result"
    }
   ],
   "source": [
    "df_softwares.columns"
   ]
  },
  {
   "cell_type": "code",
   "execution_count": 6,
   "metadata": {},
   "outputs": [
    {
     "name": "stdout",
     "output_type": "stream",
     "text": [
      "<class 'pandas.core.frame.DataFrame'>\n",
      "RangeIndex: 10841 entries, 0 to 10840\n",
      "Data columns (total 13 columns):\n",
      "App               10841 non-null object\n",
      "Category          10841 non-null object\n",
      "Rating            9367 non-null float64\n",
      "Reviews           10841 non-null object\n",
      "Size              10841 non-null object\n",
      "Installs          10841 non-null object\n",
      "Type              10840 non-null object\n",
      "Price             10841 non-null object\n",
      "Content Rating    10840 non-null object\n",
      "Genres            10841 non-null object\n",
      "Last Updated      10841 non-null object\n",
      "Current Ver       10833 non-null object\n",
      "Android Ver       10838 non-null object\n",
      "dtypes: float64(1), object(12)\n",
      "memory usage: 1.1+ MB\n"
     ]
    }
   ],
   "source": [
    "df_softwares.info()"
   ]
  },
  {
   "cell_type": "code",
   "execution_count": 7,
   "metadata": {},
   "outputs": [
    {
     "data": {
      "text/html": [
       "<div>\n",
       "<style scoped>\n",
       "    .dataframe tbody tr th:only-of-type {\n",
       "        vertical-align: middle;\n",
       "    }\n",
       "\n",
       "    .dataframe tbody tr th {\n",
       "        vertical-align: top;\n",
       "    }\n",
       "\n",
       "    .dataframe thead th {\n",
       "        text-align: right;\n",
       "    }\n",
       "</style>\n",
       "<table border=\"1\" class=\"dataframe\">\n",
       "  <thead>\n",
       "    <tr style=\"text-align: right;\">\n",
       "      <th></th>\n",
       "      <th>Rating</th>\n",
       "    </tr>\n",
       "  </thead>\n",
       "  <tbody>\n",
       "    <tr>\n",
       "      <td>count</td>\n",
       "      <td>9367.000000</td>\n",
       "    </tr>\n",
       "    <tr>\n",
       "      <td>mean</td>\n",
       "      <td>4.193338</td>\n",
       "    </tr>\n",
       "    <tr>\n",
       "      <td>std</td>\n",
       "      <td>0.537431</td>\n",
       "    </tr>\n",
       "    <tr>\n",
       "      <td>min</td>\n",
       "      <td>1.000000</td>\n",
       "    </tr>\n",
       "    <tr>\n",
       "      <td>25%</td>\n",
       "      <td>4.000000</td>\n",
       "    </tr>\n",
       "    <tr>\n",
       "      <td>50%</td>\n",
       "      <td>4.300000</td>\n",
       "    </tr>\n",
       "    <tr>\n",
       "      <td>75%</td>\n",
       "      <td>4.500000</td>\n",
       "    </tr>\n",
       "    <tr>\n",
       "      <td>max</td>\n",
       "      <td>19.000000</td>\n",
       "    </tr>\n",
       "  </tbody>\n",
       "</table>\n",
       "</div>"
      ],
      "text/plain": [
       "            Rating\n",
       "count  9367.000000\n",
       "mean      4.193338\n",
       "std       0.537431\n",
       "min       1.000000\n",
       "25%       4.000000\n",
       "50%       4.300000\n",
       "75%       4.500000\n",
       "max      19.000000"
      ]
     },
     "execution_count": 7,
     "metadata": {},
     "output_type": "execute_result"
    }
   ],
   "source": [
    "df_softwares.describe()"
   ]
  },
  {
   "cell_type": "code",
   "execution_count": 8,
   "metadata": {},
   "outputs": [
    {
     "name": "stdout",
     "output_type": "stream",
     "text": [
      "********** App **********\n",
      "['Photo Editor & Candy Camera & Grid & ScrapBook' 'Coloring book moana'\n",
      " 'U Launcher Lite – FREE Live Cool Themes, Hide Apps' ...\n",
      " 'Parkinson Exercices FR' 'The SCP Foundation DB fr nn5n'\n",
      " 'iHoroscope - 2018 Daily Horoscope & Astrology']\n",
      "\n",
      "********** Category **********\n",
      "['ART_AND_DESIGN' 'AUTO_AND_VEHICLES' 'BEAUTY' 'BOOKS_AND_REFERENCE'\n",
      " 'BUSINESS' 'COMICS' 'COMMUNICATION' 'DATING' 'EDUCATION' 'ENTERTAINMENT'\n",
      " 'EVENTS' 'FINANCE' 'FOOD_AND_DRINK' 'HEALTH_AND_FITNESS' 'HOUSE_AND_HOME'\n",
      " 'LIBRARIES_AND_DEMO' 'LIFESTYLE' 'GAME' 'FAMILY' 'MEDICAL' 'SOCIAL'\n",
      " 'SHOPPING' 'PHOTOGRAPHY' 'SPORTS' 'TRAVEL_AND_LOCAL' 'TOOLS'\n",
      " 'PERSONALIZATION' 'PRODUCTIVITY' 'PARENTING' 'WEATHER' 'VIDEO_PLAYERS'\n",
      " 'NEWS_AND_MAGAZINES' 'MAPS_AND_NAVIGATION' '1.9']\n",
      "\n",
      "********** Rating **********\n",
      "[ 4.1  3.9  4.7  4.5  4.3  4.4  3.8  4.2  4.6  3.2  4.   nan  4.8  4.9\n",
      "  3.6  3.7  3.3  3.4  3.5  3.1  5.   2.6  3.   1.9  2.5  2.8  2.7  1.\n",
      "  2.9  2.3  2.2  1.7  2.   1.8  2.4  1.6  2.1  1.4  1.5  1.2 19. ]\n",
      "\n",
      "********** Reviews **********\n",
      "['159' '967' '87510' ... '603' '1195' '398307']\n",
      "\n",
      "********** Size **********\n",
      "['19M' '14M' '8.7M' '25M' '2.8M' '5.6M' '29M' '33M' '3.1M' '28M' '12M'\n",
      " '20M' '21M' '37M' '2.7M' '5.5M' '17M' '39M' '31M' '4.2M' '7.0M' '23M'\n",
      " '6.0M' '6.1M' '4.6M' '9.2M' '5.2M' '11M' '24M' 'Varies with device'\n",
      " '9.4M' '15M' '10M' '1.2M' '26M' '8.0M' '7.9M' '56M' '57M' '35M' '54M'\n",
      " '201k' '3.6M' '5.7M' '8.6M' '2.4M' '27M' '2.5M' '16M' '3.4M' '8.9M'\n",
      " '3.9M' '2.9M' '38M' '32M' '5.4M' '18M' '1.1M' '2.2M' '4.5M' '9.8M' '52M'\n",
      " '9.0M' '6.7M' '30M' '2.6M' '7.1M' '3.7M' '22M' '7.4M' '6.4M' '3.2M'\n",
      " '8.2M' '9.9M' '4.9M' '9.5M' '5.0M' '5.9M' '13M' '73M' '6.8M' '3.5M'\n",
      " '4.0M' '2.3M' '7.2M' '2.1M' '42M' '7.3M' '9.1M' '55M' '23k' '6.5M' '1.5M'\n",
      " '7.5M' '51M' '41M' '48M' '8.5M' '46M' '8.3M' '4.3M' '4.7M' '3.3M' '40M'\n",
      " '7.8M' '8.8M' '6.6M' '5.1M' '61M' '66M' '79k' '8.4M' '118k' '44M' '695k'\n",
      " '1.6M' '6.2M' '18k' '53M' '1.4M' '3.0M' '5.8M' '3.8M' '9.6M' '45M' '63M'\n",
      " '49M' '77M' '4.4M' '4.8M' '70M' '6.9M' '9.3M' '10.0M' '8.1M' '36M' '84M'\n",
      " '97M' '2.0M' '1.9M' '1.8M' '5.3M' '47M' '556k' '526k' '76M' '7.6M' '59M'\n",
      " '9.7M' '78M' '72M' '43M' '7.7M' '6.3M' '334k' '34M' '93M' '65M' '79M'\n",
      " '100M' '58M' '50M' '68M' '64M' '67M' '60M' '94M' '232k' '99M' '624k'\n",
      " '95M' '8.5k' '41k' '292k' '11k' '80M' '1.7M' '74M' '62M' '69M' '75M'\n",
      " '98M' '85M' '82M' '96M' '87M' '71M' '86M' '91M' '81M' '92M' '83M' '88M'\n",
      " '704k' '862k' '899k' '378k' '266k' '375k' '1.3M' '975k' '980k' '4.1M'\n",
      " '89M' '696k' '544k' '525k' '920k' '779k' '853k' '720k' '713k' '772k'\n",
      " '318k' '58k' '241k' '196k' '857k' '51k' '953k' '865k' '251k' '930k'\n",
      " '540k' '313k' '746k' '203k' '26k' '314k' '239k' '371k' '220k' '730k'\n",
      " '756k' '91k' '293k' '17k' '74k' '14k' '317k' '78k' '924k' '902k' '818k'\n",
      " '81k' '939k' '169k' '45k' '475k' '965k' '90M' '545k' '61k' '283k' '655k'\n",
      " '714k' '93k' '872k' '121k' '322k' '1.0M' '976k' '172k' '238k' '549k'\n",
      " '206k' '954k' '444k' '717k' '210k' '609k' '308k' '705k' '306k' '904k'\n",
      " '473k' '175k' '350k' '383k' '454k' '421k' '70k' '812k' '442k' '842k'\n",
      " '417k' '412k' '459k' '478k' '335k' '782k' '721k' '430k' '429k' '192k'\n",
      " '200k' '460k' '728k' '496k' '816k' '414k' '506k' '887k' '613k' '243k'\n",
      " '569k' '778k' '683k' '592k' '319k' '186k' '840k' '647k' '191k' '373k'\n",
      " '437k' '598k' '716k' '585k' '982k' '222k' '219k' '55k' '948k' '323k'\n",
      " '691k' '511k' '951k' '963k' '25k' '554k' '351k' '27k' '82k' '208k' '913k'\n",
      " '514k' '551k' '29k' '103k' '898k' '743k' '116k' '153k' '209k' '353k'\n",
      " '499k' '173k' '597k' '809k' '122k' '411k' '400k' '801k' '787k' '237k'\n",
      " '50k' '643k' '986k' '97k' '516k' '837k' '780k' '961k' '269k' '20k' '498k'\n",
      " '600k' '749k' '642k' '881k' '72k' '656k' '601k' '221k' '228k' '108k'\n",
      " '940k' '176k' '33k' '663k' '34k' '942k' '259k' '164k' '458k' '245k'\n",
      " '629k' '28k' '288k' '775k' '785k' '636k' '916k' '994k' '309k' '485k'\n",
      " '914k' '903k' '608k' '500k' '54k' '562k' '847k' '957k' '688k' '811k'\n",
      " '270k' '48k' '329k' '523k' '921k' '874k' '981k' '784k' '280k' '24k'\n",
      " '518k' '754k' '892k' '154k' '860k' '364k' '387k' '626k' '161k' '879k'\n",
      " '39k' '970k' '170k' '141k' '160k' '144k' '143k' '190k' '376k' '193k'\n",
      " '246k' '73k' '658k' '992k' '253k' '420k' '404k' '1,000+' '470k' '226k'\n",
      " '240k' '89k' '234k' '257k' '861k' '467k' '157k' '44k' '676k' '67k' '552k'\n",
      " '885k' '1020k' '582k' '619k']\n",
      "\n",
      "********** Installs **********\n",
      "['10,000+' '500,000+' '5,000,000+' '50,000,000+' '100,000+' '50,000+'\n",
      " '1,000,000+' '10,000,000+' '5,000+' '100,000,000+' '1,000,000,000+'\n",
      " '1,000+' '500,000,000+' '50+' '100+' '500+' '10+' '1+' '5+' '0+' '0'\n",
      " 'Free']\n",
      "\n",
      "********** Type **********\n",
      "['Free' 'Paid' nan '0']\n",
      "\n",
      "********** Price **********\n",
      "['0' '$4.99' '$3.99' '$6.99' '$1.49' '$2.99' '$7.99' '$5.99' '$3.49'\n",
      " '$1.99' '$9.99' '$7.49' '$0.99' '$9.00' '$5.49' '$10.00' '$24.99'\n",
      " '$11.99' '$79.99' '$16.99' '$14.99' '$1.00' '$29.99' '$12.99' '$2.49'\n",
      " '$10.99' '$1.50' '$19.99' '$15.99' '$33.99' '$74.99' '$39.99' '$3.95'\n",
      " '$4.49' '$1.70' '$8.99' '$2.00' '$3.88' '$25.99' '$399.99' '$17.99'\n",
      " '$400.00' '$3.02' '$1.76' '$4.84' '$4.77' '$1.61' '$2.50' '$1.59' '$6.49'\n",
      " '$1.29' '$5.00' '$13.99' '$299.99' '$379.99' '$37.99' '$18.99' '$389.99'\n",
      " '$19.90' '$8.49' '$1.75' '$14.00' '$4.85' '$46.99' '$109.99' '$154.99'\n",
      " '$3.08' '$2.59' '$4.80' '$1.96' '$19.40' '$3.90' '$4.59' '$15.46' '$3.04'\n",
      " '$4.29' '$2.60' '$3.28' '$4.60' '$28.99' '$2.95' '$2.90' '$1.97'\n",
      " '$200.00' '$89.99' '$2.56' '$30.99' '$3.61' '$394.99' '$1.26' 'Everyone'\n",
      " '$1.20' '$1.04']\n",
      "\n",
      "********** Content Rating **********\n",
      "['Everyone' 'Teen' 'Everyone 10+' 'Mature 17+' 'Adults only 18+' 'Unrated'\n",
      " nan]\n",
      "\n",
      "********** Genres **********\n",
      "['Art & Design' 'Art & Design;Pretend Play' 'Art & Design;Creativity'\n",
      " 'Art & Design;Action & Adventure' 'Auto & Vehicles' 'Beauty'\n",
      " 'Books & Reference' 'Business' 'Comics' 'Comics;Creativity'\n",
      " 'Communication' 'Dating' 'Education;Education' 'Education'\n",
      " 'Education;Creativity' 'Education;Music & Video'\n",
      " 'Education;Action & Adventure' 'Education;Pretend Play'\n",
      " 'Education;Brain Games' 'Entertainment' 'Entertainment;Music & Video'\n",
      " 'Entertainment;Brain Games' 'Entertainment;Creativity' 'Events' 'Finance'\n",
      " 'Food & Drink' 'Health & Fitness' 'House & Home' 'Libraries & Demo'\n",
      " 'Lifestyle' 'Lifestyle;Pretend Play' 'Adventure;Action & Adventure'\n",
      " 'Arcade' 'Casual' 'Card' 'Casual;Pretend Play' 'Action' 'Strategy'\n",
      " 'Puzzle' 'Sports' 'Music' 'Word' 'Racing' 'Casual;Creativity'\n",
      " 'Casual;Action & Adventure' 'Simulation' 'Adventure' 'Board' 'Trivia'\n",
      " 'Role Playing' 'Simulation;Education' 'Action;Action & Adventure'\n",
      " 'Casual;Brain Games' 'Simulation;Action & Adventure'\n",
      " 'Educational;Creativity' 'Puzzle;Brain Games' 'Educational;Education'\n",
      " 'Card;Brain Games' 'Educational;Brain Games' 'Educational;Pretend Play'\n",
      " 'Entertainment;Education' 'Casual;Education' 'Music;Music & Video'\n",
      " 'Racing;Action & Adventure' 'Arcade;Pretend Play'\n",
      " 'Role Playing;Action & Adventure' 'Simulation;Pretend Play'\n",
      " 'Puzzle;Creativity' 'Sports;Action & Adventure'\n",
      " 'Educational;Action & Adventure' 'Arcade;Action & Adventure'\n",
      " 'Entertainment;Action & Adventure' 'Puzzle;Action & Adventure'\n",
      " 'Strategy;Action & Adventure' 'Music & Audio;Music & Video'\n",
      " 'Health & Fitness;Education' 'Adventure;Education' 'Board;Brain Games'\n",
      " 'Board;Action & Adventure' 'Board;Pretend Play' 'Casual;Music & Video'\n",
      " 'Role Playing;Pretend Play' 'Entertainment;Pretend Play'\n",
      " 'Video Players & Editors;Creativity' 'Card;Action & Adventure' 'Medical'\n",
      " 'Social' 'Shopping' 'Photography' 'Travel & Local'\n",
      " 'Travel & Local;Action & Adventure' 'Tools' 'Tools;Education'\n",
      " 'Personalization' 'Productivity' 'Parenting' 'Parenting;Music & Video'\n",
      " 'Parenting;Education' 'Parenting;Brain Games' 'Weather'\n",
      " 'Video Players & Editors' 'Video Players & Editors;Music & Video'\n",
      " 'News & Magazines' 'Maps & Navigation'\n",
      " 'Health & Fitness;Action & Adventure' 'Educational' 'Casino'\n",
      " 'Adventure;Brain Games' 'Trivia;Education' 'Lifestyle;Education'\n",
      " 'Books & Reference;Creativity' 'Books & Reference;Education'\n",
      " 'Puzzle;Education' 'Role Playing;Education' 'Role Playing;Brain Games'\n",
      " 'Strategy;Education' 'Racing;Pretend Play' 'Communication;Creativity'\n",
      " 'February 11, 2018' 'Strategy;Creativity']\n",
      "\n",
      "********** Last Updated **********\n",
      "['January 7, 2018' 'January 15, 2018' 'August 1, 2018' ...\n",
      " 'January 20, 2014' 'February 16, 2014' 'March 23, 2014']\n",
      "\n",
      "********** Current Ver **********\n",
      "['1.0.0' '2.0.0' '1.2.4' ... '1.0.612928' '0.3.4' '2.0.148.0']\n",
      "\n",
      "********** Android Ver **********\n",
      "['4.0.3 and up' '4.2 and up' '4.4 and up' '2.3 and up' '3.0 and up'\n",
      " '4.1 and up' '4.0 and up' '2.3.3 and up' 'Varies with device'\n",
      " '2.2 and up' '5.0 and up' '6.0 and up' '1.6 and up' '1.5 and up'\n",
      " '2.1 and up' '7.0 and up' '5.1 and up' '4.3 and up' '4.0.3 - 7.1.1'\n",
      " '2.0 and up' '3.2 and up' '4.4W and up' '7.1 and up' '7.0 - 7.1.1'\n",
      " '8.0 and up' '5.0 - 8.0' '3.1 and up' '2.0.1 and up' '4.1 - 7.1.1' nan\n",
      " '5.0 - 6.0' '1.0 and up' '2.2 - 7.1.1' '5.0 - 7.1.1']\n",
      "\n"
     ]
    }
   ],
   "source": [
    "for _ in df_softwares.columns:\n",
    "    print('*'*10, _, '*'*10)\n",
    "    print(df_softwares[_].unique())\n",
    "    print()"
   ]
  },
  {
   "cell_type": "markdown",
   "metadata": {},
   "source": [
    "发现问题：\n",
    "- 列名不是全部小写而且有空格\n",
    "- 存在空值(rating)\n",
    "- 部分列（size）数据类型不合适\n",
    "\n",
    "与问题相关/会对分析结果造成影响的列：\n",
    "- category\n",
    "- size\n",
    "- rating\n",
    "\n",
    "其他列存在的问题忽略。"
   ]
  },
  {
   "cell_type": "markdown",
   "metadata": {},
   "source": [
    "### 数据清理：\n",
    "1. 列名的所有字母小写，并且用下划线替换空格。\n",
    "1. 检查空值并且fillna（“rating”列）\n",
    "1. 去重\n",
    "1. 修改“size”列的数据类型\n",
    "1. 通过groupby，计算每个类型（category）的评分（rating）的平均值。"
   ]
  },
  {
   "cell_type": "code",
   "execution_count": 9,
   "metadata": {},
   "outputs": [],
   "source": [
    "df_softwares = df_softwares.rename(columns = lambda x: x.lower().replace(' ', '_'))"
   ]
  },
  {
   "cell_type": "markdown",
   "metadata": {},
   "source": [
    "以下操作为：检查空值并且fillna（“rating”列）"
   ]
  },
  {
   "cell_type": "code",
   "execution_count": 10,
   "metadata": {},
   "outputs": [
    {
     "data": {
      "text/plain": [
       "app                  0\n",
       "category             0\n",
       "rating            1474\n",
       "reviews              0\n",
       "size                 0\n",
       "installs             0\n",
       "type                 1\n",
       "price                0\n",
       "content_rating       1\n",
       "genres               0\n",
       "last_updated         0\n",
       "current_ver          8\n",
       "android_ver          3\n",
       "dtype: int64"
      ]
     },
     "execution_count": 10,
     "metadata": {},
     "output_type": "execute_result"
    }
   ],
   "source": [
    "df_softwares.isnull().sum()"
   ]
  },
  {
   "cell_type": "code",
   "execution_count": 11,
   "metadata": {},
   "outputs": [],
   "source": [
    "df_softwares.rating = df_softwares.rating.fillna(0)"
   ]
  },
  {
   "cell_type": "code",
   "execution_count": 12,
   "metadata": {},
   "outputs": [
    {
     "name": "stdout",
     "output_type": "stream",
     "text": [
      "<class 'pandas.core.frame.DataFrame'>\n",
      "RangeIndex: 10841 entries, 0 to 10840\n",
      "Data columns (total 13 columns):\n",
      "app               10841 non-null object\n",
      "category          10841 non-null object\n",
      "rating            10841 non-null float64\n",
      "reviews           10841 non-null object\n",
      "size              10841 non-null object\n",
      "installs          10841 non-null object\n",
      "type              10840 non-null object\n",
      "price             10841 non-null object\n",
      "content_rating    10840 non-null object\n",
      "genres            10841 non-null object\n",
      "last_updated      10841 non-null object\n",
      "current_ver       10833 non-null object\n",
      "android_ver       10838 non-null object\n",
      "dtypes: float64(1), object(12)\n",
      "memory usage: 1.1+ MB\n"
     ]
    }
   ],
   "source": [
    "# 确认fillna是否生效\n",
    "df_softwares.info()"
   ]
  },
  {
   "cell_type": "markdown",
   "metadata": {},
   "source": [
    "以下操作为：去重"
   ]
  },
  {
   "cell_type": "code",
   "execution_count": 13,
   "metadata": {},
   "outputs": [
    {
     "data": {
      "text/html": [
       "<div>\n",
       "<style scoped>\n",
       "    .dataframe tbody tr th:only-of-type {\n",
       "        vertical-align: middle;\n",
       "    }\n",
       "\n",
       "    .dataframe tbody tr th {\n",
       "        vertical-align: top;\n",
       "    }\n",
       "\n",
       "    .dataframe thead th {\n",
       "        text-align: right;\n",
       "    }\n",
       "</style>\n",
       "<table border=\"1\" class=\"dataframe\">\n",
       "  <thead>\n",
       "    <tr style=\"text-align: right;\">\n",
       "      <th></th>\n",
       "      <th>app</th>\n",
       "      <th>category</th>\n",
       "      <th>rating</th>\n",
       "      <th>reviews</th>\n",
       "      <th>size</th>\n",
       "      <th>installs</th>\n",
       "      <th>type</th>\n",
       "      <th>price</th>\n",
       "      <th>content_rating</th>\n",
       "      <th>genres</th>\n",
       "      <th>last_updated</th>\n",
       "      <th>current_ver</th>\n",
       "      <th>android_ver</th>\n",
       "    </tr>\n",
       "  </thead>\n",
       "  <tbody>\n",
       "    <tr>\n",
       "      <td>229</td>\n",
       "      <td>Quick PDF Scanner + OCR FREE</td>\n",
       "      <td>BUSINESS</td>\n",
       "      <td>4.2</td>\n",
       "      <td>80805</td>\n",
       "      <td>Varies with device</td>\n",
       "      <td>5,000,000+</td>\n",
       "      <td>Free</td>\n",
       "      <td>0</td>\n",
       "      <td>Everyone</td>\n",
       "      <td>Business</td>\n",
       "      <td>February 26, 2018</td>\n",
       "      <td>Varies with device</td>\n",
       "      <td>4.0.3 and up</td>\n",
       "    </tr>\n",
       "    <tr>\n",
       "      <td>236</td>\n",
       "      <td>Box</td>\n",
       "      <td>BUSINESS</td>\n",
       "      <td>4.2</td>\n",
       "      <td>159872</td>\n",
       "      <td>Varies with device</td>\n",
       "      <td>10,000,000+</td>\n",
       "      <td>Free</td>\n",
       "      <td>0</td>\n",
       "      <td>Everyone</td>\n",
       "      <td>Business</td>\n",
       "      <td>July 31, 2018</td>\n",
       "      <td>Varies with device</td>\n",
       "      <td>Varies with device</td>\n",
       "    </tr>\n",
       "    <tr>\n",
       "      <td>239</td>\n",
       "      <td>Google My Business</td>\n",
       "      <td>BUSINESS</td>\n",
       "      <td>4.4</td>\n",
       "      <td>70991</td>\n",
       "      <td>Varies with device</td>\n",
       "      <td>5,000,000+</td>\n",
       "      <td>Free</td>\n",
       "      <td>0</td>\n",
       "      <td>Everyone</td>\n",
       "      <td>Business</td>\n",
       "      <td>July 24, 2018</td>\n",
       "      <td>2.19.0.204537701</td>\n",
       "      <td>4.4 and up</td>\n",
       "    </tr>\n",
       "    <tr>\n",
       "      <td>256</td>\n",
       "      <td>ZOOM Cloud Meetings</td>\n",
       "      <td>BUSINESS</td>\n",
       "      <td>4.4</td>\n",
       "      <td>31614</td>\n",
       "      <td>37M</td>\n",
       "      <td>10,000,000+</td>\n",
       "      <td>Free</td>\n",
       "      <td>0</td>\n",
       "      <td>Everyone</td>\n",
       "      <td>Business</td>\n",
       "      <td>July 20, 2018</td>\n",
       "      <td>4.1.28165.0716</td>\n",
       "      <td>4.0 and up</td>\n",
       "    </tr>\n",
       "    <tr>\n",
       "      <td>261</td>\n",
       "      <td>join.me - Simple Meetings</td>\n",
       "      <td>BUSINESS</td>\n",
       "      <td>4.0</td>\n",
       "      <td>6989</td>\n",
       "      <td>Varies with device</td>\n",
       "      <td>1,000,000+</td>\n",
       "      <td>Free</td>\n",
       "      <td>0</td>\n",
       "      <td>Everyone</td>\n",
       "      <td>Business</td>\n",
       "      <td>July 16, 2018</td>\n",
       "      <td>4.3.0.508</td>\n",
       "      <td>4.4 and up</td>\n",
       "    </tr>\n",
       "    <tr>\n",
       "      <td>...</td>\n",
       "      <td>...</td>\n",
       "      <td>...</td>\n",
       "      <td>...</td>\n",
       "      <td>...</td>\n",
       "      <td>...</td>\n",
       "      <td>...</td>\n",
       "      <td>...</td>\n",
       "      <td>...</td>\n",
       "      <td>...</td>\n",
       "      <td>...</td>\n",
       "      <td>...</td>\n",
       "      <td>...</td>\n",
       "      <td>...</td>\n",
       "    </tr>\n",
       "    <tr>\n",
       "      <td>8643</td>\n",
       "      <td>Wunderlist: To-Do List &amp; Tasks</td>\n",
       "      <td>PRODUCTIVITY</td>\n",
       "      <td>4.6</td>\n",
       "      <td>404610</td>\n",
       "      <td>Varies with device</td>\n",
       "      <td>10,000,000+</td>\n",
       "      <td>Free</td>\n",
       "      <td>0</td>\n",
       "      <td>Everyone</td>\n",
       "      <td>Productivity</td>\n",
       "      <td>April 6, 2018</td>\n",
       "      <td>Varies with device</td>\n",
       "      <td>Varies with device</td>\n",
       "    </tr>\n",
       "    <tr>\n",
       "      <td>8654</td>\n",
       "      <td>TickTick: To Do List with Reminder, Day Planner</td>\n",
       "      <td>PRODUCTIVITY</td>\n",
       "      <td>4.6</td>\n",
       "      <td>25370</td>\n",
       "      <td>Varies with device</td>\n",
       "      <td>1,000,000+</td>\n",
       "      <td>Free</td>\n",
       "      <td>0</td>\n",
       "      <td>Everyone</td>\n",
       "      <td>Productivity</td>\n",
       "      <td>August 6, 2018</td>\n",
       "      <td>Varies with device</td>\n",
       "      <td>Varies with device</td>\n",
       "    </tr>\n",
       "    <tr>\n",
       "      <td>8658</td>\n",
       "      <td>ColorNote Notepad Notes</td>\n",
       "      <td>PRODUCTIVITY</td>\n",
       "      <td>4.6</td>\n",
       "      <td>2401017</td>\n",
       "      <td>Varies with device</td>\n",
       "      <td>100,000,000+</td>\n",
       "      <td>Free</td>\n",
       "      <td>0</td>\n",
       "      <td>Everyone</td>\n",
       "      <td>Productivity</td>\n",
       "      <td>June 27, 2018</td>\n",
       "      <td>Varies with device</td>\n",
       "      <td>Varies with device</td>\n",
       "    </tr>\n",
       "    <tr>\n",
       "      <td>10049</td>\n",
       "      <td>Airway Ex - Intubate. Anesthetize. Train.</td>\n",
       "      <td>MEDICAL</td>\n",
       "      <td>4.3</td>\n",
       "      <td>123</td>\n",
       "      <td>86M</td>\n",
       "      <td>10,000+</td>\n",
       "      <td>Free</td>\n",
       "      <td>0</td>\n",
       "      <td>Everyone</td>\n",
       "      <td>Medical</td>\n",
       "      <td>June 1, 2018</td>\n",
       "      <td>0.6.88</td>\n",
       "      <td>5.0 and up</td>\n",
       "    </tr>\n",
       "    <tr>\n",
       "      <td>10768</td>\n",
       "      <td>AAFP</td>\n",
       "      <td>MEDICAL</td>\n",
       "      <td>3.8</td>\n",
       "      <td>63</td>\n",
       "      <td>24M</td>\n",
       "      <td>10,000+</td>\n",
       "      <td>Free</td>\n",
       "      <td>0</td>\n",
       "      <td>Everyone</td>\n",
       "      <td>Medical</td>\n",
       "      <td>June 22, 2018</td>\n",
       "      <td>2.3.1</td>\n",
       "      <td>5.0 and up</td>\n",
       "    </tr>\n",
       "  </tbody>\n",
       "</table>\n",
       "<p>483 rows × 13 columns</p>\n",
       "</div>"
      ],
      "text/plain": [
       "                                                   app      category  rating  \\\n",
       "229                       Quick PDF Scanner + OCR FREE      BUSINESS     4.2   \n",
       "236                                                Box      BUSINESS     4.2   \n",
       "239                                 Google My Business      BUSINESS     4.4   \n",
       "256                                ZOOM Cloud Meetings      BUSINESS     4.4   \n",
       "261                          join.me - Simple Meetings      BUSINESS     4.0   \n",
       "...                                                ...           ...     ...   \n",
       "8643                    Wunderlist: To-Do List & Tasks  PRODUCTIVITY     4.6   \n",
       "8654   TickTick: To Do List with Reminder, Day Planner  PRODUCTIVITY     4.6   \n",
       "8658                           ColorNote Notepad Notes  PRODUCTIVITY     4.6   \n",
       "10049        Airway Ex - Intubate. Anesthetize. Train.       MEDICAL     4.3   \n",
       "10768                                             AAFP       MEDICAL     3.8   \n",
       "\n",
       "       reviews                size      installs  type price content_rating  \\\n",
       "229      80805  Varies with device    5,000,000+  Free     0       Everyone   \n",
       "236     159872  Varies with device   10,000,000+  Free     0       Everyone   \n",
       "239      70991  Varies with device    5,000,000+  Free     0       Everyone   \n",
       "256      31614                 37M   10,000,000+  Free     0       Everyone   \n",
       "261       6989  Varies with device    1,000,000+  Free     0       Everyone   \n",
       "...        ...                 ...           ...   ...   ...            ...   \n",
       "8643    404610  Varies with device   10,000,000+  Free     0       Everyone   \n",
       "8654     25370  Varies with device    1,000,000+  Free     0       Everyone   \n",
       "8658   2401017  Varies with device  100,000,000+  Free     0       Everyone   \n",
       "10049      123                 86M       10,000+  Free     0       Everyone   \n",
       "10768       63                 24M       10,000+  Free     0       Everyone   \n",
       "\n",
       "             genres       last_updated         current_ver         android_ver  \n",
       "229        Business  February 26, 2018  Varies with device        4.0.3 and up  \n",
       "236        Business      July 31, 2018  Varies with device  Varies with device  \n",
       "239        Business      July 24, 2018    2.19.0.204537701          4.4 and up  \n",
       "256        Business      July 20, 2018      4.1.28165.0716          4.0 and up  \n",
       "261        Business      July 16, 2018           4.3.0.508          4.4 and up  \n",
       "...             ...                ...                 ...                 ...  \n",
       "8643   Productivity      April 6, 2018  Varies with device  Varies with device  \n",
       "8654   Productivity     August 6, 2018  Varies with device  Varies with device  \n",
       "8658   Productivity      June 27, 2018  Varies with device  Varies with device  \n",
       "10049       Medical       June 1, 2018              0.6.88          5.0 and up  \n",
       "10768       Medical      June 22, 2018               2.3.1          5.0 and up  \n",
       "\n",
       "[483 rows x 13 columns]"
      ]
     },
     "execution_count": 13,
     "metadata": {},
     "output_type": "execute_result"
    }
   ],
   "source": [
    "df_softwares[df_softwares.duplicated()]"
   ]
  },
  {
   "cell_type": "code",
   "execution_count": 14,
   "metadata": {},
   "outputs": [],
   "source": [
    "df_softwares = df_softwares.drop_duplicates()"
   ]
  },
  {
   "cell_type": "code",
   "execution_count": 15,
   "metadata": {},
   "outputs": [
    {
     "data": {
      "text/html": [
       "<div>\n",
       "<style scoped>\n",
       "    .dataframe tbody tr th:only-of-type {\n",
       "        vertical-align: middle;\n",
       "    }\n",
       "\n",
       "    .dataframe tbody tr th {\n",
       "        vertical-align: top;\n",
       "    }\n",
       "\n",
       "    .dataframe thead th {\n",
       "        text-align: right;\n",
       "    }\n",
       "</style>\n",
       "<table border=\"1\" class=\"dataframe\">\n",
       "  <thead>\n",
       "    <tr style=\"text-align: right;\">\n",
       "      <th></th>\n",
       "      <th>app</th>\n",
       "      <th>category</th>\n",
       "      <th>rating</th>\n",
       "      <th>reviews</th>\n",
       "      <th>size</th>\n",
       "      <th>installs</th>\n",
       "      <th>type</th>\n",
       "      <th>price</th>\n",
       "      <th>content_rating</th>\n",
       "      <th>genres</th>\n",
       "      <th>last_updated</th>\n",
       "      <th>current_ver</th>\n",
       "      <th>android_ver</th>\n",
       "    </tr>\n",
       "  </thead>\n",
       "  <tbody>\n",
       "  </tbody>\n",
       "</table>\n",
       "</div>"
      ],
      "text/plain": [
       "Empty DataFrame\n",
       "Columns: [app, category, rating, reviews, size, installs, type, price, content_rating, genres, last_updated, current_ver, android_ver]\n",
       "Index: []"
      ]
     },
     "execution_count": 15,
     "metadata": {},
     "output_type": "execute_result"
    }
   ],
   "source": [
    "df_softwares[df_softwares.duplicated()]"
   ]
  },
  {
   "cell_type": "markdown",
   "metadata": {},
   "source": [
    "以下操作为：转换“size”列的数据类型。"
   ]
  },
  {
   "cell_type": "code",
   "execution_count": 16,
   "metadata": {},
   "outputs": [],
   "source": [
    "temp =  df_softwares['size'].apply(lambda x: float(x[:-1]) * 1024 if x[-1] == 'M' else float(x[:-1]) if x[-1] == 'K' else 0)\n",
    "df_softwares['size'] = temp.astype(float)"
   ]
  },
  {
   "cell_type": "code",
   "execution_count": 17,
   "metadata": {},
   "outputs": [
    {
     "name": "stdout",
     "output_type": "stream",
     "text": [
      "<class 'pandas.core.frame.DataFrame'>\n",
      "Int64Index: 10358 entries, 0 to 10840\n",
      "Data columns (total 13 columns):\n",
      "app               10358 non-null object\n",
      "category          10358 non-null object\n",
      "rating            10358 non-null float64\n",
      "reviews           10358 non-null object\n",
      "size              10358 non-null float64\n",
      "installs          10358 non-null object\n",
      "type              10357 non-null object\n",
      "price             10358 non-null object\n",
      "content_rating    10357 non-null object\n",
      "genres            10358 non-null object\n",
      "last_updated      10358 non-null object\n",
      "current_ver       10350 non-null object\n",
      "android_ver       10355 non-null object\n",
      "dtypes: float64(2), object(11)\n",
      "memory usage: 1.1+ MB\n"
     ]
    }
   ],
   "source": [
    "# 确认修改是否生效\n",
    "df_softwares.info() "
   ]
  },
  {
   "cell_type": "markdown",
   "metadata": {},
   "source": [
    "以下操作为：通过groupby，计算每个类型（category）的评分（rating）的平均值。"
   ]
  },
  {
   "cell_type": "code",
   "execution_count": 18,
   "metadata": {},
   "outputs": [
    {
     "data": {
      "text/html": [
       "<div>\n",
       "<style scoped>\n",
       "    .dataframe tbody tr th:only-of-type {\n",
       "        vertical-align: middle;\n",
       "    }\n",
       "\n",
       "    .dataframe tbody tr th {\n",
       "        vertical-align: top;\n",
       "    }\n",
       "\n",
       "    .dataframe thead th {\n",
       "        text-align: right;\n",
       "    }\n",
       "</style>\n",
       "<table border=\"1\" class=\"dataframe\">\n",
       "  <thead>\n",
       "    <tr style=\"text-align: right;\">\n",
       "      <th></th>\n",
       "      <th>category</th>\n",
       "      <th>rating</th>\n",
       "      <th>size</th>\n",
       "    </tr>\n",
       "  </thead>\n",
       "  <tbody>\n",
       "    <tr>\n",
       "      <td>0</td>\n",
       "      <td>1.9</td>\n",
       "      <td>19.000000</td>\n",
       "      <td>0.000000</td>\n",
       "    </tr>\n",
       "    <tr>\n",
       "      <td>1</td>\n",
       "      <td>ART_AND_DESIGN</td>\n",
       "      <td>4.156923</td>\n",
       "      <td>12083.200000</td>\n",
       "    </tr>\n",
       "    <tr>\n",
       "      <td>2</td>\n",
       "      <td>AUTO_AND_VEHICLES</td>\n",
       "      <td>3.598824</td>\n",
       "      <td>18091.068235</td>\n",
       "    </tr>\n",
       "    <tr>\n",
       "      <td>3</td>\n",
       "      <td>BEAUTY</td>\n",
       "      <td>3.390566</td>\n",
       "      <td>12527.577358</td>\n",
       "    </tr>\n",
       "    <tr>\n",
       "      <td>4</td>\n",
       "      <td>BOOKS_AND_REFERENCE</td>\n",
       "      <td>3.345652</td>\n",
       "      <td>11486.163478</td>\n",
       "    </tr>\n",
       "  </tbody>\n",
       "</table>\n",
       "</div>"
      ],
      "text/plain": [
       "              category     rating          size\n",
       "0                  1.9  19.000000      0.000000\n",
       "1       ART_AND_DESIGN   4.156923  12083.200000\n",
       "2    AUTO_AND_VEHICLES   3.598824  18091.068235\n",
       "3               BEAUTY   3.390566  12527.577358\n",
       "4  BOOKS_AND_REFERENCE   3.345652  11486.163478"
      ]
     },
     "execution_count": 18,
     "metadata": {},
     "output_type": "execute_result"
    }
   ],
   "source": [
    "gp = df_softwares.groupby('category', as_index = False).mean()[['category', 'rating', 'size']].copy()\n",
    "gp.head() "
   ]
  },
  {
   "cell_type": "code",
   "execution_count": 19,
   "metadata": {},
   "outputs": [
    {
     "data": {
      "text/plain": [
       "count    34.000000\n",
       "mean      4.039381\n",
       "std       2.666318\n",
       "min       2.594145\n",
       "25%       3.403608\n",
       "50%       3.571505\n",
       "75%       3.804304\n",
       "max      19.000000\n",
       "Name: rating, dtype: float64"
      ]
     },
     "execution_count": 19,
     "metadata": {},
     "output_type": "execute_result"
    }
   ],
   "source": [
    "gp.rating.describe()"
   ]
  },
  {
   "cell_type": "code",
   "execution_count": 20,
   "metadata": {},
   "outputs": [],
   "source": [
    "gp = gp.sort_values('rating', ascending=False)"
   ]
  },
  {
   "cell_type": "markdown",
   "metadata": {},
   "source": [
    "以下操作为：处理“category”列：删除异常值（“1.9”），"
   ]
  },
  {
   "cell_type": "code",
   "execution_count": 21,
   "metadata": {},
   "outputs": [
    {
     "data": {
      "text/plain": [
       "array(['1.9', 'EDUCATION', 'ART_AND_DESIGN', 'ENTERTAINMENT', 'GAME',\n",
       "       'COMICS', 'PHOTOGRAPHY', 'WEATHER', 'SHOPPING', 'VIDEO_PLAYERS',\n",
       "       'SOCIAL', 'FAMILY', 'MAPS_AND_NAVIGATION', 'HEALTH_AND_FITNESS',\n",
       "       'FINANCE', 'AUTO_AND_VEHICLES', 'PARENTING', 'FOOD_AND_DRINK',\n",
       "       'TRAVEL_AND_LOCAL', 'HOUSE_AND_HOME', 'TOOLS', 'COMMUNICATION',\n",
       "       'PERSONALIZATION', 'PRODUCTIVITY', 'SPORTS', 'BEAUTY', 'LIFESTYLE',\n",
       "       'NEWS_AND_MAGAZINES', 'BOOKS_AND_REFERENCE', 'DATING',\n",
       "       'LIBRARIES_AND_DEMO', 'EVENTS', 'MEDICAL', 'BUSINESS'],\n",
       "      dtype=object)"
      ]
     },
     "execution_count": 21,
     "metadata": {},
     "output_type": "execute_result"
    }
   ],
   "source": [
    "gp.category.unique()"
   ]
  },
  {
   "cell_type": "code",
   "execution_count": 22,
   "metadata": {},
   "outputs": [],
   "source": [
    "gp = gp[gp.category != '1.9']"
   ]
  },
  {
   "cell_type": "markdown",
   "metadata": {},
   "source": [
    "## 数据探索分析"
   ]
  },
  {
   "cell_type": "code",
   "execution_count": 23,
   "metadata": {},
   "outputs": [
    {
     "data": {
      "image/png": "[encoded data removed]",
      "text/plain": [
       "<Figure size 1440x360 with 1 Axes>"
      ]
     },
     "metadata": {
      "needs_background": "light"
     },
     "output_type": "display_data"
    }
   ],
   "source": [
    "fig, ax = plt.subplots(1, 1, figsize = (20, 5))\n",
    "gp.plot(x = 'category', y = 'rating', ax = ax, kind='bar')\n",
    "ax.set_ylim(bottom = 2.5, top = 4.5, auto =True)\n",
    "plt.suptitle('Rating by category');"
   ]
  },
  {
   "cell_type": "markdown",
   "metadata": {},
   "source": [
    "从图中可知，不同类型的App平均评分差异较大，其中最高的是教育（Education）类。"
   ]
  },
  {
   "cell_type": "code",
   "execution_count": 24,
   "metadata": {},
   "outputs": [],
   "source": [
    "df_softwares = df_softwares[df_softwares.rating <= 5.0] \n",
    "df_softwares = df_softwares[df_softwares.rating > 0] "
   ]
  },
  {
   "cell_type": "markdown",
   "metadata": {},
   "source": [
    "第一次可视化后，发现“0”和“大于5”的评分为异常值，从数据集中删除，重新可视化。"
   ]
  },
  {
   "cell_type": "code",
   "execution_count": 25,
   "metadata": {},
   "outputs": [
    {
     "data": {
      "image/png": "[encoded data removed]",
      "text/plain": [
       "<Figure size 576x576 with 1 Axes>"
      ]
     },
     "metadata": {
      "needs_background": "light"
     },
     "output_type": "display_data"
    }
   ],
   "source": [
    "fig2, ax2 = plt.subplots(figsize = (8, 8))\n",
    "ax2 = sns.scatterplot(x=\"rating\", y=\"size\", data=df_softwares)\n",
    "plt.suptitle('Relation: rating & size');"
   ]
  },
  {
   "cell_type": "markdown",
   "metadata": {},
   "source": [
    "从图中可知App的大小（size）和评分的关系为：较弱的正相关。"
   ]
  },
  {
   "cell_type": "markdown",
   "metadata": {},
   "source": [
    "## 得出结论\n",
    "**问题**：\n",
    "- 什么类型（category）的App平均评分高？\n",
    "- App的大小（size）和评分是否有关？\n",
    "\n",
    "**答案**：\n",
    "- 教育（Education）类App平均评分最高。\n",
    "- App的大小（size）和评分的关系为：较弱的正相关。"
   ]
  }
 ],
 "metadata": {
  "kernelspec": {
   "display_name": "Python 3",
   "language": "python",
   "name": "python3"
  },
  "language_info": {
   "codemirror_mode": {
    "name": "ipython",
    "version": 3
   },
   "file_extension": ".py",
   "mimetype": "text/x-python",
   "name": "python",
   "nbconvert_exporter": "python",
   "pygments_lexer": "ipython3",
   "version": "3.7.4"
  }
 },
 "nbformat": 4,
 "nbformat_minor": 2
}
